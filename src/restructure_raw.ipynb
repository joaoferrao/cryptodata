{
 "cells": [
  {
   "cell_type": "code",
   "execution_count": 1,
   "metadata": {},
   "outputs": [],
   "source": [
    "from main import download_data\n",
    "CRYPTOS = ['BTC', 'ETH', 'EOS', 'LTC', 'XRP', 'BCH', 'ADA', 'XLM', 'CVC']"
   ]
  },
  {
   "cell_type": "code",
   "execution_count": 2,
   "metadata": {},
   "outputs": [
    {
     "name": "stdout",
     "output_type": "stream",
     "text": [
      "Querying for BTC\n",
      "Still fetching results for BTC\n",
      "Still fetching results for BTC\n",
      "Still fetching results for BTC\n",
      "Still fetching results for BTC\n",
      "Still fetching results for BTC\n",
      "Still fetching results for BTC\n",
      "Still fetching results for BTC\n",
      "Still fetching results for BTC\n",
      "Still fetching results for BTC\n",
      "Still fetching results for BTC\n",
      "Still fetching results for BTC\n",
      "Still fetching results for BTC\n",
      "Still fetching results for BTC\n",
      "Still fetching results for BTC\n",
      "Still fetching results for BTC\n",
      "Still fetching results for BTC\n",
      "Still fetching results for BTC\n",
      "Still fetching results for BTC\n",
      "Still fetching results for BTC\n",
      "Still fetching results for BTC\n",
      "Still fetching results for BTC\n",
      "Still fetching results for BTC\n",
      "Still fetching results for BTC\n",
      "Still fetching results for BTC\n",
      "Still fetching results for BTC\n",
      "Still fetching results for BTC\n",
      "Still fetching results for BTC\n",
      "Still fetching results for BTC\n",
      "Still fetching results for BTC\n",
      "Still fetching results for BTC\n",
      "Still fetching results for BTC\n",
      "Still fetching results for BTC\n",
      "Still fetching results for BTC\n",
      "Still fetching results for BTC\n",
      "Querying for ETH\n",
      "Still fetching results for ETH\n",
      "Still fetching results for ETH\n",
      "Still fetching results for ETH\n",
      "Still fetching results for ETH\n",
      "Still fetching results for ETH\n",
      "Still fetching results for ETH\n",
      "Still fetching results for ETH\n",
      "Still fetching results for ETH\n",
      "Still fetching results for ETH\n",
      "Still fetching results for ETH\n",
      "Still fetching results for ETH\n",
      "Still fetching results for ETH\n",
      "Querying for EOS\n",
      "Still fetching results for EOS\n",
      "Still fetching results for EOS\n",
      "Still fetching results for EOS\n",
      "Still fetching results for EOS\n",
      "Querying for LTC\n",
      "Still fetching results for LTC\n",
      "Still fetching results for LTC\n",
      "Still fetching results for LTC\n",
      "Still fetching results for LTC\n",
      "Still fetching results for LTC\n",
      "Still fetching results for LTC\n",
      "Still fetching results for LTC\n",
      "Still fetching results for LTC\n",
      "Still fetching results for LTC\n",
      "Still fetching results for LTC\n",
      "Still fetching results for LTC\n",
      "Still fetching results for LTC\n",
      "Still fetching results for LTC\n",
      "Still fetching results for LTC\n",
      "Still fetching results for LTC\n",
      "Still fetching results for LTC\n",
      "Still fetching results for LTC\n",
      "Still fetching results for LTC\n",
      "Still fetching results for LTC\n",
      "Still fetching results for LTC\n",
      "Querying for XRP\n",
      "Still fetching results for XRP\n",
      "Still fetching results for XRP\n",
      "Still fetching results for XRP\n",
      "Still fetching results for XRP\n",
      "Still fetching results for XRP\n",
      "Still fetching results for XRP\n",
      "Still fetching results for XRP\n",
      "Still fetching results for XRP\n",
      "Still fetching results for XRP\n",
      "Still fetching results for XRP\n",
      "Still fetching results for XRP\n",
      "Still fetching results for XRP\n",
      "Still fetching results for XRP\n",
      "Still fetching results for XRP\n",
      "Querying for BCH\n",
      "Still fetching results for BCH\n",
      "Still fetching results for BCH\n",
      "Still fetching results for BCH\n",
      "Querying for ADA\n",
      "Still fetching results for ADA\n",
      "Querying for XLM\n",
      "Still fetching results for XLM\n",
      "Still fetching results for XLM\n",
      "Still fetching results for XLM\n",
      "Still fetching results for XLM\n",
      "Still fetching results for XLM\n",
      "Still fetching results for XLM\n",
      "Still fetching results for XLM\n",
      "Querying for CVC\n",
      "Still fetching results for CVC\n",
      "Still fetching results for CVC\n",
      "Still fetching results for CVC\n",
      "Saving file to /home/jovyan/data/data_raw.csv\n"
     ]
    }
   ],
   "source": [
    "download_data(CRYPTOS, currency='USD')"
   ]
  },
  {
   "cell_type": "code",
   "execution_count": 3,
   "metadata": {
    "collapsed": true,
    "slideshow": {
     "slide_type": "-"
    }
   },
   "outputs": [],
   "source": [
    "from datetime import datetime, timedelta\n",
    "from typing import List, Tuple\n",
    "from pyspark.sql import functions as F\n",
    "from pyspark.sql import SparkSession\n",
    "from pyspark.sql import Row\n",
    "from pyspark.sql.dataframe import DataFrame\n",
    "from pyspark.sql.types import *\n",
    "from pyspark.sql.window import Window"
   ]
  },
  {
   "cell_type": "code",
   "execution_count": 4,
   "metadata": {},
   "outputs": [
    {
     "name": "stdout",
     "output_type": "stream",
     "text": [
      "root\n",
      " |-- close: double (nullable = true)\n",
      " |-- high: double (nullable = true)\n",
      " |-- low: double (nullable = true)\n",
      " |-- open: double (nullable = true)\n",
      " |-- time: timestamp (nullable = true)\n",
      " |-- volumefrom: double (nullable = true)\n",
      " |-- volumeto: double (nullable = true)\n",
      " |-- symbol: string (nullable = true)\n",
      "\n"
     ]
    }
   ],
   "source": [
    "spark = SparkSession.builder.appName(\"Crypto Data\").getOrCreate()\n",
    "df = spark.read.csv(\"/home/jovyan/data/data_raw.csv\", inferSchema=True, encoding='utf-8', header=True)\n",
    "df.cache()\n",
    "df.printSchema()"
   ]
  },
  {
   "cell_type": "code",
   "execution_count": 5,
   "metadata": {},
   "outputs": [
    {
     "name": "stdout",
     "output_type": "stream",
     "text": [
      "+------+------+------+------+-------------------+----------+--------+------+\n",
      "|close |high  |low   |open  |time               |volumefrom|volumeto|symbol|\n",
      "+------+------+------+------+-------------------+----------+--------+------+\n",
      "|0.0616|0.0616|0.0616|0.0616|2010-09-05 22:00:00|0.0       |0.0     |BTC   |\n",
      "|0.0616|0.0616|0.0616|0.0616|2010-09-05 23:00:00|0.0       |0.0     |BTC   |\n",
      "|0.0616|0.0616|0.0616|0.0616|2010-09-06 00:00:00|0.0       |0.0     |BTC   |\n",
      "+------+------+------+------+-------------------+----------+--------+------+\n",
      "only showing top 3 rows\n",
      "\n"
     ]
    }
   ],
   "source": [
    "df.show(3, truncate=False)"
   ]
  },
  {
   "cell_type": "code",
   "execution_count": 6,
   "metadata": {},
   "outputs": [
    {
     "name": "stdout",
     "output_type": "stream",
     "text": [
      "+------+-------------------+------+------------+\n",
      "|  high|               time|symbol|trade_volume|\n",
      "+------+-------------------+------+------------+\n",
      "|0.0616|2010-09-05 22:00:00|   BTC|         0.0|\n",
      "|0.0616|2010-09-05 23:00:00|   BTC|         0.0|\n",
      "|0.0616|2010-09-06 00:00:00|   BTC|         0.0|\n",
      "+------+-------------------+------+------------+\n",
      "only showing top 3 rows\n",
      "\n"
     ]
    }
   ],
   "source": [
    "df = df.withColumn(\"trade_volume\", F.abs(df['volumefrom']-df['volumeto']))\n",
    "df = df.drop('volumefrom', 'volumeto', 'close', 'low', 'open')\n",
    "df.show(3)"
   ]
  },
  {
   "cell_type": "code",
   "execution_count": 7,
   "metadata": {},
   "outputs": [],
   "source": [
    "# new colums for the new df\n",
    "DELTA_MATCH = {\n",
    "    'price': {\n",
    "        'price+24h-avg': 24,\n",
    "        'price-0h-avg': 0,\n",
    "        'price-1h-avg': -1,\n",
    "        'price-2h-avg': -2,\n",
    "        'price-4h-avg': -4,\n",
    "        'price-5h-avg': -5,\n",
    "        'price-6h-avg': -6,\n",
    "        'price-8h-avg': -8,\n",
    "        'price-10h-avg': -10,\n",
    "        'price-12h-avg': -12,\n",
    "        'price-24h-avg': -24,\n",
    "        'price-48h-avg': -48,\n",
    "        'price-96h-avg': -96,\n",
    "        'price-192h-avg': -192\n",
    "    },\n",
    "    'volume': {\n",
    "        'vol-0h-avg': 0,\n",
    "        'vol-1h-avg': -1,\n",
    "        'vol-2h-avg': -2,\n",
    "        'vol-4h-avg': -4,\n",
    "        'vol-6h-avg': -6,\n",
    "        'vol-8h-avg': -8,\n",
    "        'vol-10h-avg': -10,\n",
    "        'vol-16h-avg': -16,\n",
    "        'vol-24h-avg': -24,\n",
    "        'vol-48h-avg': -48,\n",
    "        'vol-96h-avg': -96,\n",
    "        'vol-192h-avg': -192\n",
    "    }\n",
    "}"
   ]
  },
  {
   "cell_type": "code",
   "execution_count": 8,
   "metadata": {},
   "outputs": [
    {
     "name": "stdout",
     "output_type": "stream",
     "text": [
      "+-----+-------------------+------+-----------------+-------------+------------+------------+------------+------------+------------+------------+------------+-------------+-------------+-------------+-------------+-------------+--------------+-----------------+-----------------+----------+----------+----------+----------+-----------+-----------+-----------+-----------+-----------+------------+\n",
      "|high |time               |symbol|trade_volume     |price+24h-avg|price-0h-avg|price-1h-avg|price-2h-avg|price-4h-avg|price-5h-avg|price-6h-avg|price-8h-avg|price-10h-avg|price-12h-avg|price-24h-avg|price-48h-avg|price-96h-avg|price-192h-avg|vol-0h-avg       |vol-1h-avg       |vol-2h-avg|vol-4h-avg|vol-6h-avg|vol-8h-avg|vol-10h-avg|vol-16h-avg|vol-24h-avg|vol-48h-avg|vol-96h-avg|vol-192h-avg|\n",
      "+-----+-------------------+------+-----------------+-------------+------------+------------+------------+------------+------------+------------+------------+-------------+-------------+-------------+-------------+-------------+--------------+-----------------+-----------------+----------+----------+----------+----------+-----------+-----------+-----------+-----------+-----------+------------+\n",
      "|0.945|2017-06-28 19:00:00|EOS   |617.5799999999997|0.85         |0.945       |null        |null        |null        |null        |null        |null        |null         |null         |null         |null         |null         |null          |617.5799999999997|null             |null      |null      |null      |null      |null       |null       |null       |null       |null       |null        |\n",
      "|0.85 |2017-06-28 20:00:00|EOS   |322.17           |0.85         |0.85        |0.945       |null        |null        |null        |null        |null        |null         |null         |null         |null         |null         |null          |322.17           |617.5799999999997|null      |null      |null      |null      |null       |null       |null       |null       |null       |null        |\n",
      "+-----+-------------------+------+-----------------+-------------+------------+------------+------------+------------+------------+------------+------------+-------------+-------------+-------------+-------------+-------------+--------------+-----------------+-----------------+----------+----------+----------+----------+-----------+-----------+-----------+-----------+-----------+------------+\n",
      "only showing top 2 rows\n",
      "\n"
     ]
    }
   ],
   "source": [
    "# create and fill columns according to the historic data (in hours timedelta) defined in the PAST_DELTAS dict\n",
    "symb_window = Window.partitionBy(\"symbol\").orderBy(\"time\")\n",
    "for symb in CRYPTOS:\n",
    "    for k, v in DELTA_MATCH['price'].items():\n",
    "        df = df.withColumn(k, F.lag(df['high'], v*-1).over(symb_window))\n",
    "    for k, v in DELTA_MATCH['volume'].items():\n",
    "        df = df.withColumn(k, F.lag(df['trade_volume'], v*-1).over(symb_window))\n",
    "df.show(2, truncate=False)"
   ]
  },
  {
   "cell_type": "code",
   "execution_count": 9,
   "metadata": {},
   "outputs": [],
   "source": [
    "# Remove all the (expected NULL values from the previous operation)\n",
    "for k, v in DELTA_MATCH.items():\n",
    "    df = df.filter(df[list(DELTA_MATCH[k].keys())[-1]].isNotNull())"
   ]
  },
  {
   "cell_type": "code",
   "execution_count": 10,
   "metadata": {},
   "outputs": [],
   "source": [
    "# isolate BTC data (since we don't have an aggregate total market info)\n",
    "df_btc = df.filter(df['symbol'] == \"BTC\").cache()"
   ]
  },
  {
   "cell_type": "code",
   "execution_count": 11,
   "metadata": {},
   "outputs": [],
   "source": [
    "# rename columns in preprapation for future join\n",
    "df_btc = df_btc.drop('symbol').cache()"
   ]
  },
  {
   "cell_type": "code",
   "execution_count": 12,
   "metadata": {},
   "outputs": [],
   "source": [
    "for col in df_btc.columns:\n",
    "    if col == \"time\": continue\n",
    "    df_btc = df_btc.withColumnRenamed(col, \"btc-{}\".format(col)).cache()"
   ]
  },
  {
   "cell_type": "code",
   "execution_count": 13,
   "metadata": {},
   "outputs": [],
   "source": [
    "# now isolate the non-btc data to prepare for join\n",
    "df_exbtc = df.filter(df['symbol'] != \"BTC\").cache()"
   ]
  },
  {
   "cell_type": "code",
   "execution_count": 14,
   "metadata": {},
   "outputs": [],
   "source": [
    "df_joined = df_exbtc.join(df_btc, 'time', 'inner').cache()"
   ]
  },
  {
   "cell_type": "code",
   "execution_count": 16,
   "metadata": {},
   "outputs": [],
   "source": [
    "df_joined.toPandas().to_csv('/home/jovyan/data/data_rework_joined_btc.csv')"
   ]
  },
  {
   "cell_type": "code",
   "execution_count": 17,
   "metadata": {},
   "outputs": [
    {
     "name": "stdout",
     "output_type": "stream",
     "text": [
      "+-------+------+--------+-------------------+\n",
      "|   high|symbol|btc-high|               time|\n",
      "+-------+------+--------+-------------------+\n",
      "|   7.61|   EOS|13343.82|2018-01-01 12:00:00|\n",
      "| 226.61|   LTC|13343.82|2018-01-01 12:00:00|\n",
      "| 750.03|   ETH|13343.82|2018-01-01 12:00:00|\n",
      "|2339.26|   BCH|13343.82|2018-01-01 12:00:00|\n",
      "| 0.4206|   XLM|13343.82|2018-01-01 12:00:00|\n",
      "|  0.848|   CVC|13343.82|2018-01-01 12:00:00|\n",
      "|   1.92|   XRP|13343.82|2018-01-01 12:00:00|\n",
      "+-------+------+--------+-------------------+\n",
      "\n"
     ]
    }
   ],
   "source": [
    "# Check if the join was correctly executed (same BTC price must appear for all the coins.)\n",
    "df_joined.select(['high', 'symbol', 'btc-high', 'time']).filter(df['time'] == datetime(2018,1,1,12)).show()"
   ]
  },
  {
   "cell_type": "code",
   "execution_count": 18,
   "metadata": {},
   "outputs": [],
   "source": [
    "# drop unnecessary/duplicate cols\n",
    "df_joined = df_joined.drop('high', 'trade_volume', 'btc_high', 'btc-price+24h-avg').cache()"
   ]
  },
  {
   "cell_type": "code",
   "execution_count": 19,
   "metadata": {},
   "outputs": [],
   "source": [
    "# calculate delta\n",
    "df_joined = df_joined.withColumn('24h-delta', (df['price+24h-avg'] / df['price-0h-avg']) - 1).cache()"
   ]
  },
  {
   "cell_type": "code",
   "execution_count": 21,
   "metadata": {},
   "outputs": [],
   "source": [
    "# create a new col with the round delta and eliminate the previous 24h-delta\n",
    "df_joined = df_joined.withColumn('delta-round', F.round('24h-delta', 2)).drop('24h-delta').cache()\n",
    "# df_joined.show(1, truncate=False)"
   ]
  },
  {
   "cell_type": "code",
   "execution_count": 45,
   "metadata": {},
   "outputs": [],
   "source": [
    "# remove NULL from delta-round\n",
    "df_joined = df_joined.filter(df_joined['delta-round'].isNotNull()).cache()"
   ]
  },
  {
   "cell_type": "code",
   "execution_count": 46,
   "metadata": {},
   "outputs": [],
   "source": [
    "def categorize_delta(delta) -> int:\n",
    "    \"\"\"\n",
    "    UDF to help categorize growth of a specific crypto currency.\n",
    "    param: delta - the growth in % we are evaluating\n",
    "    param: threshold - threshold separating 0 from 1\n",
    "    \"\"\"\n",
    "    if delta is None:\n",
    "        return 0\n",
    "    elif delta < 0.04:\n",
    "        return 0\n",
    "    else:\n",
    "        return 1\n",
    "    \n",
    "# register the UDF\n",
    "categorize_delta_udf = F.udf(categorize_delta, IntegerType())\n",
    "categorize_delta_udf_lambda = F.udf(lambda delta: 1 if delta >= 0.04 else 0, IntegerType())"
   ]
  },
  {
   "cell_type": "code",
   "execution_count": 47,
   "metadata": {},
   "outputs": [],
   "source": [
    "df_categorized = df_joined.withColumn('category', categorize_delta_udf(df_joined['delta-round'])).cache()"
   ]
  },
  {
   "cell_type": "code",
   "execution_count": 48,
   "metadata": {},
   "outputs": [],
   "source": [
    "df_categorized.toPandas().to_csv('/home/jovyan/data/data_rework_categorized.csv')"
   ]
  },
  {
   "cell_type": "code",
   "execution_count": null,
   "metadata": {},
   "outputs": [],
   "source": []
  }
 ],
 "metadata": {
  "kernelspec": {
   "display_name": "Python 3",
   "language": "python",
   "name": "python3"
  },
  "language_info": {
   "codemirror_mode": {
    "name": "ipython",
    "version": 3
   },
   "file_extension": ".py",
   "mimetype": "text/x-python",
   "name": "python",
   "nbconvert_exporter": "python",
   "pygments_lexer": "ipython3",
   "version": "3.6.3"
  }
 },
 "nbformat": 4,
 "nbformat_minor": 2
}
