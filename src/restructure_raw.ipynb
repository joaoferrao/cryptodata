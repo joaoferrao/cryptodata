{
 "cells": [
  {
   "cell_type": "code",
   "execution_count": 8,
   "metadata": {},
   "outputs": [],
   "source": [
    "from main import download_data\n",
    "CRYPTOS = ['BTC', 'ETH', 'EOS', 'LTC', 'XRP', 'BCH', 'ADA', 'XLM', 'CVC']"
   ]
  },
  {
   "cell_type": "code",
   "execution_count": 112,
   "metadata": {},
   "outputs": [
    {
     "name": "stdout",
     "output_type": "stream",
     "text": [
      "Querying for BTC..................................\n",
      "Querying for ETH............\n",
      "Querying for EOS....\n",
      "Querying for LTC....................\n",
      "Querying for XRP..............\n",
      "Querying for BCH...\n",
      "Querying for ADA.\n",
      "Querying for XLM.......\n",
      "Querying for CVC...\n",
      "Saving file to /home/jovyan/data/data_raw.csv\n"
     ]
    }
   ],
   "source": [
    "download_data(CRYPTOS, currency='USD')"
   ]
  },
  {
   "cell_type": "code",
   "execution_count": 1,
   "metadata": {
    "collapsed": true,
    "slideshow": {
     "slide_type": "-"
    }
   },
   "outputs": [],
   "source": [
    "from datetime import datetime, timedelta\n",
    "from typing import List, Tuple\n",
    "from pyspark.sql import functions as F\n",
    "from pyspark.sql import SparkSession\n",
    "from pyspark.sql import Row\n",
    "from pyspark.sql.dataframe import DataFrame\n",
    "from pyspark.sql.types import *\n",
    "from pyspark.sql.window import Window"
   ]
  },
  {
   "cell_type": "code",
   "execution_count": 2,
   "metadata": {},
   "outputs": [
    {
     "name": "stdout",
     "output_type": "stream",
     "text": [
      "root\n",
      " |-- close: double (nullable = true)\n",
      " |-- high: double (nullable = true)\n",
      " |-- low: double (nullable = true)\n",
      " |-- open: double (nullable = true)\n",
      " |-- time: timestamp (nullable = true)\n",
      " |-- volumefrom: double (nullable = true)\n",
      " |-- volumeto: double (nullable = true)\n",
      " |-- symbol: string (nullable = true)\n",
      "\n"
     ]
    }
   ],
   "source": [
    "spark = SparkSession.builder.appName(\"Crypto Data\").getOrCreate()\n",
    "df = spark.read.csv(\"/home/jovyan/data/data_raw.csv\", inferSchema=True, encoding='utf-8', header=True)\n",
    "df.printSchema()"
   ]
  },
  {
   "cell_type": "code",
   "execution_count": 3,
   "metadata": {},
   "outputs": [
    {
     "name": "stdout",
     "output_type": "stream",
     "text": [
      "+-----+-----+-----+-----+-------------------+----------+--------+------+\n",
      "|close|high |low  |open |time               |volumefrom|volumeto|symbol|\n",
      "+-----+-----+-----+-----+-------------------+----------+--------+------+\n",
      "|0.061|0.061|0.061|0.061|2010-09-07 06:00:00|0.0       |0.0     |BTC   |\n",
      "|0.061|0.061|0.061|0.061|2010-09-07 07:00:00|0.0       |0.0     |BTC   |\n",
      "|0.061|0.061|0.061|0.061|2010-09-07 08:00:00|0.0       |0.0     |BTC   |\n",
      "+-----+-----+-----+-----+-------------------+----------+--------+------+\n",
      "only showing top 3 rows\n",
      "\n"
     ]
    }
   ],
   "source": [
    "df.show(3, truncate=False)"
   ]
  },
  {
   "cell_type": "code",
   "execution_count": 4,
   "metadata": {},
   "outputs": [
    {
     "name": "stdout",
     "output_type": "stream",
     "text": [
      "+------+-------------------+\n",
      "|symbol|          max(time)|\n",
      "+------+-------------------+\n",
      "|   EOS|2018-06-11 23:00:00|\n",
      "|   LTC|2018-06-11 23:00:00|\n",
      "|   ETH|2018-06-11 23:00:00|\n",
      "|   BCH|2018-06-11 23:00:00|\n",
      "|   BTC|2018-06-11 23:00:00|\n",
      "|   XLM|2018-06-11 23:00:00|\n",
      "|   CVC|2018-06-11 23:00:00|\n",
      "|   XRP|2018-06-11 23:00:00|\n",
      "|   ADA|2018-06-11 23:00:00|\n",
      "+------+-------------------+\n",
      "\n"
     ]
    }
   ],
   "source": [
    "# checking that the latest data lines up between all coins\n",
    "df.groupBy('symbol').agg({'time':'max'}).show()"
   ]
  },
  {
   "cell_type": "code",
   "execution_count": 5,
   "metadata": {},
   "outputs": [
    {
     "name": "stdout",
     "output_type": "stream",
     "text": [
      "+------+-------------------+\n",
      "|symbol|          max(time)|\n",
      "+------+-------------------+\n",
      "|   EOS|2018-06-11 23:00:00|\n",
      "|   LTC|2018-06-11 23:00:00|\n",
      "|   ETH|2018-06-11 23:00:00|\n",
      "|   BCH|2018-06-11 23:00:00|\n",
      "|   BTC|2018-06-11 23:00:00|\n",
      "|   XLM|2018-06-11 23:00:00|\n",
      "|   CVC|2018-06-11 23:00:00|\n",
      "|   XRP|2018-06-11 23:00:00|\n",
      "|   ADA|2018-06-11 23:00:00|\n",
      "+------+-------------------+\n",
      "\n"
     ]
    }
   ],
   "source": [
    "df = df.withColumn(\"trade_volume\", F.abs(df['volumefrom']-df['volumeto']))\n",
    "df = df.drop('volumefrom', 'volumeto', 'close', 'low', 'open')\n",
    "df.groupBy('symbol').agg({'time':'max'}).show()"
   ]
  },
  {
   "cell_type": "code",
   "execution_count": 6,
   "metadata": {},
   "outputs": [],
   "source": [
    "# new colums for the new df\n",
    "DELTA_MATCH = {\n",
    "    'price': {\n",
    "        'price+24h-avg': 24,\n",
    "        'price-0h-avg': 0,\n",
    "        'price-1h-avg': -1,\n",
    "        'price-2h-avg': -2,\n",
    "        'price-4h-avg': -4,\n",
    "        'price-5h-avg': -5,\n",
    "        'price-6h-avg': -6,\n",
    "        'price-8h-avg': -8,\n",
    "        'price-10h-avg': -10,\n",
    "        'price-12h-avg': -12,\n",
    "        'price-24h-avg': -24,\n",
    "        'price-48h-avg': -48,\n",
    "        'price-96h-avg': -96,\n",
    "        'price-192h-avg': -192\n",
    "    },\n",
    "    'volume': {\n",
    "        'vol-0h-avg': 0,\n",
    "        'vol-1h-avg': -1,\n",
    "        'vol-2h-avg': -2,\n",
    "        'vol-4h-avg': -4,\n",
    "        'vol-6h-avg': -6,\n",
    "        'vol-8h-avg': -8,\n",
    "        'vol-10h-avg': -10,\n",
    "        'vol-16h-avg': -16,\n",
    "        'vol-24h-avg': -24,\n",
    "        'vol-48h-avg': -48,\n",
    "        'vol-96h-avg': -96,\n",
    "        'vol-192h-avg': -192\n",
    "    }\n",
    "}"
   ]
  },
  {
   "cell_type": "code",
   "execution_count": 9,
   "metadata": {},
   "outputs": [],
   "source": [
    "# create and fill columns according to the historic data (in hours timedelta) defined in the PAST_DELTAS dict\n",
    "symb_window = Window.partitionBy(\"symbol\").orderBy(\"time\")\n",
    "for symb in CRYPTOS:\n",
    "    for k, v in DELTA_MATCH['price'].items():\n",
    "        df = df.withColumn(k, F.lag(df['high'], v*-1).over(symb_window))\n",
    "    for k, v in DELTA_MATCH['volume'].items():\n",
    "        df = df.withColumn(k, F.lag(df['trade_volume'], v*-1).over(symb_window))"
   ]
  },
  {
   "cell_type": "code",
   "execution_count": 10,
   "metadata": {},
   "outputs": [],
   "source": [
    "# Remove all the (expected NULL values from the previous operation)\n",
    "for k, v in DELTA_MATCH.items():\n",
    "    df = df.filter(df[list(DELTA_MATCH[k].keys())[-1]].isNotNull()).cache()"
   ]
  },
  {
   "cell_type": "code",
   "execution_count": 11,
   "metadata": {},
   "outputs": [],
   "source": [
    "# check if the order is still order by time (the last row must\n",
    "# match the hour of the extract)\n",
    "latest_received_date = df.collect()[-1]['time']"
   ]
  },
  {
   "cell_type": "code",
   "execution_count": 12,
   "metadata": {},
   "outputs": [],
   "source": [
    "# isolate BTC data (since we don't have an aggregate total market info)\n",
    "df_btc = df.filter(df['symbol'] == \"BTC\").cache()"
   ]
  },
  {
   "cell_type": "code",
   "execution_count": 13,
   "metadata": {},
   "outputs": [],
   "source": [
    "# rename columns in preprapation for future join\n",
    "df_btc = df_btc.drop('symbol', 'price+24h-avg', 'high', 'trade_volume').cache()"
   ]
  },
  {
   "cell_type": "code",
   "execution_count": 14,
   "metadata": {},
   "outputs": [],
   "source": [
    "for col in df_btc.columns:\n",
    "    if col == \"time\": continue\n",
    "    df_btc = df_btc.withColumnRenamed(col, \"btc-{}\".format(col)).cache()"
   ]
  },
  {
   "cell_type": "code",
   "execution_count": 15,
   "metadata": {},
   "outputs": [],
   "source": [
    "# isolate the non-btc data to prepare for join\n",
    "df_exbtc = df.filter(df['symbol'] != \"BTC\").cache()"
   ]
  },
  {
   "cell_type": "code",
   "execution_count": 16,
   "metadata": {},
   "outputs": [],
   "source": [
    "# join dfs so all coins have BTC in their row for benchmark for all\n",
    "df_joined = df_exbtc.join(df_btc, 'time', 'inner').cache()"
   ]
  },
  {
   "cell_type": "code",
   "execution_count": 17,
   "metadata": {},
   "outputs": [
    {
     "name": "stdout",
     "output_type": "stream",
     "text": [
      "False\n",
      "False\n"
     ]
    }
   ],
   "source": [
    "df_exbtc.unpersist()\n",
    "df_btc.unpersist()\n",
    "print(df_exbtc.is_cached)\n",
    "print(df_btc.is_cached)"
   ]
  },
  {
   "cell_type": "code",
   "execution_count": 18,
   "metadata": {},
   "outputs": [
    {
     "name": "stdout",
     "output_type": "stream",
     "text": [
      "+------+------+----------------+-------------------+\n",
      "|  high|symbol|btc-price-0h-avg|               time|\n",
      "+------+------+----------------+-------------------+\n",
      "| 0.177|   ADA|         6813.43|2018-06-11 23:00:00|\n",
      "|0.5932|   XRP|         6813.43|2018-06-11 23:00:00|\n",
      "|0.2417|   CVC|         6813.43|2018-06-11 23:00:00|\n",
      "|0.2475|   XLM|         6813.43|2018-06-11 23:00:00|\n",
      "|953.13|   BCH|         6813.43|2018-06-11 23:00:00|\n",
      "|526.99|   ETH|         6813.43|2018-06-11 23:00:00|\n",
      "|106.16|   LTC|         6813.43|2018-06-11 23:00:00|\n",
      "| 11.33|   EOS|         6813.43|2018-06-11 23:00:00|\n",
      "+------+------+----------------+-------------------+\n",
      "\n"
     ]
    }
   ],
   "source": [
    "# Check if the join was correctly executed (same BTC price must appear for all the coins.)\n",
    "df_joined.select(['high', 'symbol', 'btc-price-0h-avg', 'time']).filter(df_joined['time'] == latest_received_date).show()"
   ]
  },
  {
   "cell_type": "code",
   "execution_count": 19,
   "metadata": {},
   "outputs": [],
   "source": [
    "# drop unnecessary/duplicate cols\n",
    "df_joined = df_joined.drop('high', 'trade_volume', 'btc_high', 'btc-price+24h-avg')"
   ]
  },
  {
   "cell_type": "code",
   "execution_count": 20,
   "metadata": {},
   "outputs": [],
   "source": [
    "df_predict = df_joined.filter(df_joined['time'] == latest_received_date)"
   ]
  },
  {
   "cell_type": "code",
   "execution_count": 21,
   "metadata": {},
   "outputs": [],
   "source": [
    "# calculate delta\n",
    "df_joined = df_joined.withColumn('24h-delta', (df['price+24h-avg'] / df['price-0h-avg']) - 1).cache()"
   ]
  },
  {
   "cell_type": "code",
   "execution_count": 22,
   "metadata": {},
   "outputs": [],
   "source": [
    "# create a new col with the round delta and eliminate the previous 24h-delta\n",
    "# df_joined = df_joined.withColumn('delta-round', F.round('24h-delta', 2)).drop('24h-delta').cache()"
   ]
  },
  {
   "cell_type": "code",
   "execution_count": 23,
   "metadata": {},
   "outputs": [],
   "source": [
    "def categorize_delta(delta) -> int:\n",
    "    \"\"\"\n",
    "    UDF to help categorize growth of a specific crypto currency.\n",
    "    param: delta - the growth in % we are evaluating\n",
    "    param: threshold - threshold separating 0 from 1\n",
    "    \"\"\"\n",
    "    if delta is None:\n",
    "        return None\n",
    "#     elif delta < 0.04:    # the parameter giving us the actual binary classification answer in the actual data\n",
    "    elif delta < -0.1:    # the parameter giving us the actual binary classification answer in the actual data\n",
    "        return 0\n",
    "    else:\n",
    "        return 1\n",
    "    \n",
    "# register the UDF\n",
    "categorize_delta_udf = F.udf(categorize_delta, IntegerType())"
   ]
  },
  {
   "cell_type": "code",
   "execution_count": 24,
   "metadata": {},
   "outputs": [
    {
     "data": {
      "text/plain": [
       "False"
      ]
     },
     "execution_count": 24,
     "metadata": {},
     "output_type": "execute_result"
    }
   ],
   "source": [
    "df_categorized = df_joined.withColumn('label', categorize_delta_udf(df_joined['24h-delta'])).drop('24h-delta').cache().cache()\n",
    "df_joined.unpersist()\n",
    "df_joined.is_cached"
   ]
  },
  {
   "cell_type": "code",
   "execution_count": 25,
   "metadata": {},
   "outputs": [
    {
     "data": {
      "text/plain": [
       "192"
      ]
     },
     "execution_count": 25,
     "metadata": {},
     "output_type": "execute_result"
    }
   ],
   "source": [
    "df_categorized.select('symbol', 'time', 'label').filter(df_categorized['label'].isNull()).count()"
   ]
  },
  {
   "cell_type": "code",
   "execution_count": 26,
   "metadata": {},
   "outputs": [],
   "source": [
    "# remove the (last) column thas null data, in this case, label should have 192 rows\n",
    "df_categorized = df_categorized.filter(df_categorized['label'].isNotNull()).cache()"
   ]
  },
  {
   "cell_type": "code",
   "execution_count": 27,
   "metadata": {},
   "outputs": [],
   "source": [
    "df_categorized.toPandas().to_csv('/home/jovyan/data/data_train_test.csv')"
   ]
  },
  {
   "cell_type": "code",
   "execution_count": 28,
   "metadata": {},
   "outputs": [],
   "source": [
    "df_predict.toPandas().to_csv('/home/jovyan/data/data_predict.csv')"
   ]
  },
  {
   "cell_type": "code",
   "execution_count": 29,
   "metadata": {},
   "outputs": [],
   "source": [
    "spark.catalog.clearCache()"
   ]
  }
 ],
 "metadata": {
  "kernelspec": {
   "display_name": "Python 3",
   "language": "python",
   "name": "python3"
  },
  "language_info": {
   "codemirror_mode": {
    "name": "ipython",
    "version": 3
   },
   "file_extension": ".py",
   "mimetype": "text/x-python",
   "name": "python",
   "nbconvert_exporter": "python",
   "pygments_lexer": "ipython3",
   "version": "3.6.3"
  }
 },
 "nbformat": 4,
 "nbformat_minor": 2
}
