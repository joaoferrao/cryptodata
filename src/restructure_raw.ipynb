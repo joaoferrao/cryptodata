{
 "cells": [
  {
   "cell_type": "code",
   "execution_count": null,
   "metadata": {},
   "outputs": [],
   "source": [
    "from main import download_data\n",
    "CRYPTOS = ['BTC', 'ETH', 'EOS', 'LTC']\n",
    "download_data(CRYPTOS, currency='USD')"
   ]
  },
  {
   "cell_type": "code",
   "execution_count": 1,
   "metadata": {
    "collapsed": true
   },
   "outputs": [],
   "source": [
    "from datetime import datetime, timedelta\n",
    "from typing import List, Tuple\n",
    "from pyspark.sql import functions as F\n",
    "from pyspark.sql import SparkSession\n",
    "from pyspark.sql import Row\n",
    "from pyspark.sql.dataframe import DataFrame\n",
    "from pyspark.sql.types import *\n",
    "import tools as T"
   ]
  },
  {
   "cell_type": "code",
   "execution_count": 2,
   "metadata": {},
   "outputs": [
    {
     "name": "stdout",
     "output_type": "stream",
     "text": [
      "root\n",
      " |-- close: double (nullable = true)\n",
      " |-- high: double (nullable = true)\n",
      " |-- low: double (nullable = true)\n",
      " |-- open: double (nullable = true)\n",
      " |-- time: timestamp (nullable = true)\n",
      " |-- volumefrom: double (nullable = true)\n",
      " |-- volumeto: double (nullable = true)\n",
      " |-- symbol: string (nullable = true)\n",
      "\n"
     ]
    }
   ],
   "source": [
    "spark = SparkSession.builder.appName(\"Crypto Data\").getOrCreate()\n",
    "df = spark.read.csv(\"/home/jovyan/data/data_raw.csv\", inferSchema=True, encoding='utf-8', header=True)\n",
    "df.cache()\n",
    "df.printSchema()"
   ]
  },
  {
   "cell_type": "code",
   "execution_count": 3,
   "metadata": {},
   "outputs": [
    {
     "name": "stdout",
     "output_type": "stream",
     "text": [
      "+-------+-------+-------+-------+-------------------+----------+--------+------+\n",
      "|close  |high   |low    |open   |time               |volumefrom|volumeto|symbol|\n",
      "+-------+-------+-------+-------+-------------------+----------+--------+------+\n",
      "|0.06238|0.06238|0.06238|0.06238|2010-09-05 00:00:00|0.0       |0.0     |BTC   |\n",
      "|0.06238|0.06238|0.06238|0.06238|2010-09-05 01:00:00|0.0       |0.0     |BTC   |\n",
      "|0.06238|0.06238|0.06238|0.06238|2010-09-05 02:00:00|0.0       |0.0     |BTC   |\n",
      "+-------+-------+-------+-------+-------------------+----------+--------+------+\n",
      "only showing top 3 rows\n",
      "\n"
     ]
    }
   ],
   "source": [
    "df.show(3, truncate=False)"
   ]
  },
  {
   "cell_type": "code",
   "execution_count": 4,
   "metadata": {},
   "outputs": [],
   "source": [
    "# new colums for the new df\n",
    "DELTA_MATCH = {\n",
    "    'price': {\n",
    "        'price-0h-avg': 0,\n",
    "        'price-1h-avg': -1,\n",
    "        'price-2h-avg': -2,\n",
    "        'price-4h-avg': -4,\n",
    "        'price-5h-avg': -5,\n",
    "        'price-6h-avg': -6,\n",
    "        'price-8h-avg': -8,\n",
    "        'price-10h-avg': -10,\n",
    "        'price-12h-avg': -12,\n",
    "        'price-24h-avg': -24,\n",
    "        'price-48h-avg': -48,\n",
    "        'price-96h-avg': -96,\n",
    "        'price-192h-avg': -192,\n",
    "        'price+24h-avg': 24\n",
    "    },\n",
    "    'volume': {\n",
    "        'vol-0h-avg': 0,\n",
    "        'vol-1h-avg': -1,\n",
    "        'vol-2h-avg': -2,\n",
    "        'vol-4h-avg': -4,\n",
    "        'vol-6h-avg': -6,\n",
    "        'vol-8h-avg': -8,\n",
    "        'vol-10h-avg': -10,\n",
    "        'vol-16h-avg': -16,\n",
    "        'vol-24h-avg': -24,\n",
    "        'vol-48h-avg': -48,\n",
    "        'vol-96h-avg': -96,\n",
    "        'vol-192h-avg': -192\n",
    "    }\n",
    "}"
   ]
  },
  {
   "cell_type": "code",
   "execution_count": 5,
   "metadata": {},
   "outputs": [],
   "source": [
    "fields = [\n",
    "    StructField(\"symbol\", StringType(), False),\n",
    "    StructField(\"date\", TimestampType(), False),\n",
    "]\n",
    "\n",
    "for field, delta in DELTA_MATCH['price'].items():\n",
    "    fields.append(StructField(field, DoubleType(), False))\n",
    "for field, delta in DELTA_MATCH['volume'].items():\n",
    "    fields.append(StructField(field, DoubleType(), False))    \n",
    "\n",
    "schema = StructType(fields)"
   ]
  },
  {
   "cell_type": "code",
   "execution_count": null,
   "metadata": {},
   "outputs": [],
   "source": [
    "T.transform_as_df(schema=schema, spark=spark, symbol=\"EOS\", raw_df=df, sacrified_rows=192, past_delta_match=DELTA_MATCH)"
   ]
  },
  {
   "cell_type": "code",
   "execution_count": null,
   "metadata": {},
   "outputs": [],
   "source": [
    "from pyspark.sql.window import Window\n",
    "# window_01 = Window.partitionBy(\"customer_name\").orderBy(\"date\", \"category\").rowsBetween(-sys.maxsize, 0)\n",
    "window = Window.rowsBetween(-1,0)\n",
    "window_df = df_crypto.withColumn(\"price-1h\", df_crypto['open'].over(window)).show()"
   ]
  },
  {
   "cell_type": "code",
   "execution_count": null,
   "metadata": {},
   "outputs": [],
   "source": []
  }
 ],
 "metadata": {
  "kernelspec": {
   "display_name": "Python 3",
   "language": "python",
   "name": "python3"
  },
  "language_info": {
   "codemirror_mode": {
    "name": "ipython",
    "version": 3
   },
   "file_extension": ".py",
   "mimetype": "text/x-python",
   "name": "python",
   "nbconvert_exporter": "python",
   "pygments_lexer": "ipython3",
   "version": "3.6.3"
  }
 },
 "nbformat": 4,
 "nbformat_minor": 2
}
