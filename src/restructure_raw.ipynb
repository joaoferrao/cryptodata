{
 "cells": [
  {
   "cell_type": "code",
   "execution_count": 1,
   "metadata": {},
   "outputs": [],
   "source": [
    "import matplotlib.pyplot as plt\n",
    "from datetime import datetime, timedelta\n",
    "from IPython.display import display, HTML\n",
    "from main import download_data\n",
    "from pyspark.sql import functions as F\n",
    "from pyspark.sql import SparkSession\n",
    "from pyspark.sql import Row\n",
    "from pyspark.sql.dataframe import DataFrame\n",
    "from pyspark.sql.types import *\n",
    "from pyspark.sql.window import Window\n",
    "from typing import List, Tuple"
   ]
  },
  {
   "cell_type": "code",
   "execution_count": 2,
   "metadata": {},
   "outputs": [],
   "source": [
    "CRYPTOS = ['BTC', 'VEN', 'ETH', 'EOS', 'LTC', 'XRP', 'BCH', 'XLM', 'CVC']"
   ]
  },
  {
   "cell_type": "code",
   "execution_count": 3,
   "metadata": {},
   "outputs": [
    {
     "name": "stdout",
     "output_type": "stream",
     "text": [
      "Querying for BTC..................................\n",
      "Querying for VEN...\n",
      "Querying for ETH............\n",
      "Querying for EOS....\n",
      "Querying for LTC....................\n",
      "Querying for XRP..............\n",
      "Querying for BCH...\n",
      "Querying for XLM.......\n",
      "Querying for CVC....\n",
      "Saving file to /home/jovyan/data/data_raw.csv\n"
     ]
    }
   ],
   "source": [
    "download_data(CRYPTOS, currency='USD')"
   ]
  },
  {
   "cell_type": "code",
   "execution_count": 4,
   "metadata": {},
   "outputs": [
    {
     "name": "stdout",
     "output_type": "stream",
     "text": [
      "root\n",
      " |-- close: double (nullable = true)\n",
      " |-- high: double (nullable = true)\n",
      " |-- low: double (nullable = true)\n",
      " |-- open: double (nullable = true)\n",
      " |-- time: timestamp (nullable = true)\n",
      " |-- volumefrom: double (nullable = true)\n",
      " |-- volumeto: double (nullable = true)\n",
      " |-- symbol: string (nullable = true)\n",
      "\n"
     ]
    }
   ],
   "source": [
    "spark = SparkSession.builder.appName(\"Crypto Data\").getOrCreate()\n",
    "spark.sparkContext.setCheckpointDir('/tmp/checkpoint/')\n",
    "spark.sparkContext.setLogLevel('INFO')\n",
    "df = spark.read.csv(\"/home/jovyan/data/data_raw.csv\", inferSchema=True, encoding='utf-8', header=True)\n",
    "df.printSchema()"
   ]
  },
  {
   "cell_type": "markdown",
   "metadata": {},
   "source": [
    "At this stage, only using a \"stupid\" average price for structuring the data.\n",
    "(stupid because we have no way to make a weighed average between high, low, close, open)"
   ]
  },
  {
   "cell_type": "code",
   "execution_count": 5,
   "metadata": {},
   "outputs": [],
   "source": [
    "df = df.withColumn(\"trade_volume\", F.abs(df['volumefrom']-df['volumeto'])).withColumn(\"avg-price\", (df['high'] + df['close'] + df['open'] + df['low'])/4)\n",
    "df = df.drop('volumefrom', 'volumeto', 'close', 'open')"
   ]
  },
  {
   "cell_type": "markdown",
   "metadata": {},
   "source": [
    "Check if the order is still order by time (the last row must match the hour of the extract).\n",
    "And we will need this date for later processing."
   ]
  },
  {
   "cell_type": "code",
   "execution_count": 6,
   "metadata": {},
   "outputs": [
    {
     "data": {
      "text/plain": [
       "datetime.datetime(2018, 6, 17, 19, 0)"
      ]
     },
     "execution_count": 6,
     "metadata": {},
     "output_type": "execute_result"
    }
   ],
   "source": [
    "latest_received_date = df.collect()[-1]['time']\n",
    "latest_received_date"
   ]
  },
  {
   "cell_type": "markdown",
   "metadata": {},
   "source": [
    "Checking that the latest *date* lines up between all coins"
   ]
  },
  {
   "cell_type": "code",
   "execution_count": 7,
   "metadata": {},
   "outputs": [
    {
     "name": "stdout",
     "output_type": "stream",
     "text": [
      "+------+-------------------+\n",
      "|symbol|          max(time)|\n",
      "+------+-------------------+\n",
      "|   EOS|2018-06-17 19:00:00|\n",
      "|   LTC|2018-06-17 19:00:00|\n",
      "|   ETH|2018-06-17 19:00:00|\n",
      "|   BCH|2018-06-17 19:00:00|\n",
      "|   VEN|2018-06-17 19:00:00|\n",
      "|   BTC|2018-06-17 19:00:00|\n",
      "|   XLM|2018-06-17 19:00:00|\n",
      "|   CVC|2018-06-17 19:00:00|\n",
      "|   XRP|2018-06-17 19:00:00|\n",
      "+------+-------------------+\n",
      "\n"
     ]
    }
   ],
   "source": [
    "df.groupBy('symbol').agg({'time':'max'}).show()"
   ]
  },
  {
   "cell_type": "markdown",
   "metadata": {},
   "source": [
    "Cols to be used as features and label for our model."
   ]
  },
  {
   "cell_type": "code",
   "execution_count": 8,
   "metadata": {},
   "outputs": [],
   "source": [
    "DELTA_MATCH = {\n",
    "    'label': {\n",
    "        'price+24h-max': 24,\n",
    "#         'price+24h-min': 24,  # not in use for now.\n",
    "    },\n",
    "    'price': {\n",
    "        'price-0h': 0,\n",
    "        'price-1h': -1,\n",
    "        'price-2h': -2,\n",
    "        'price-4h': -4,\n",
    "        'price-5h': -5,\n",
    "        'price-6h': -6,\n",
    "        'price-8h': -8,\n",
    "        'price-10h': -10,\n",
    "        'price-12h': -12,\n",
    "        'price-24h': -24,\n",
    "        'price-48h': -48,\n",
    "        'price-96h': -96,\n",
    "        'price-192h': -192,\n",
    "        'price-384h': -384,\n",
    "        'price-768h': -768,\n",
    "    },\n",
    "    'volume': {\n",
    "        'vol-0h': 0,\n",
    "        'vol-1h': -1,\n",
    "        'vol-2h': -2,\n",
    "        'vol-4h': -4,\n",
    "        'vol-6h': -6,\n",
    "        'vol-8h': -8,\n",
    "        'vol-10h': -10,\n",
    "        'vol-16h': -16,\n",
    "        'vol-24h': -24,\n",
    "        'vol-48h': -48,\n",
    "        'vol-96h': -96,\n",
    "        'vol-192h': -192,\n",
    "        'vol-384h': -384,\n",
    "        'vol-768h': -768,\n",
    "    }\n",
    "}"
   ]
  },
  {
   "cell_type": "markdown",
   "metadata": {},
   "source": [
    "Create and fill columns according to the historic data (in hours timedelta) defined in the PAST_DELTAS dict"
   ]
  },
  {
   "cell_type": "code",
   "execution_count": 9,
   "metadata": {},
   "outputs": [],
   "source": [
    "columnizer_win = Window.partitionBy(\"symbol\").orderBy(\"time\")\n",
    "for symb in CRYPTOS:\n",
    "    for k, v in DELTA_MATCH['price'].items():\n",
    "        df = df.withColumn(k, F.lag(df['avg-price'], v*-1).over(columnizer_win))\n",
    "    for k, v in DELTA_MATCH['volume'].items():\n",
    "        df = df.withColumn(k, F.lag(df['trade_volume'], v*-1).over(columnizer_win))"
   ]
  },
  {
   "cell_type": "markdown",
   "metadata": {},
   "source": [
    "Label will be the based on the max / min achieved price in following 24h"
   ]
  },
  {
   "cell_type": "code",
   "execution_count": 10,
   "metadata": {},
   "outputs": [],
   "source": [
    "label_window = Window.partitionBy('symbol').orderBy(\"time\").rowsBetween(1, 24)\n",
    "df = df.withColumn(\"price+24h-max\", F.max(df['high']).over(label_window))\n",
    "df = df.withColumn(\"price+24h-min\", F.min(df['low']).over(label_window))"
   ]
  },
  {
   "cell_type": "code",
   "execution_count": 11,
   "metadata": {},
   "outputs": [],
   "source": [
    "# columnizer_win = Window.partitionBy(\"symbol\").orderBy(\"time\")\n",
    "# for symb in CRYPTOS:\n",
    "#     for k, v in DELTA_MATCH['price'].items():\n",
    "#         df = df.withColumn(k, F.lag(df['avg-price'], v*-1).over(columnizer_win))\n",
    "#     for k, v in DELTA_MATCH['volume'].items():\n",
    "#         df = df.withColumn(k, F.lag(df['trade_volume'], v*-1).over(columnizer_win))\n",
    "#     for k, v in DELTA_MATCH['label'].items():\n",
    "#         df = df.withColumn(k, F.lag(df['trade_volume'], v*-1).over(columnizer_win))"
   ]
  },
  {
   "cell_type": "markdown",
   "metadata": {},
   "source": [
    "Remove all the (expected NULL values from the previous operation).\n",
    "These correspond to the feature columns (all except label) from the earlier dict we declated with PAST_DELTAS.\n",
    "\n",
    "We are wasting days from the initial time for each coin, but otherwise we wouldn't have so many features."
   ]
  },
  {
   "cell_type": "code",
   "execution_count": 12,
   "metadata": {},
   "outputs": [],
   "source": [
    "for key in DELTA_MATCH['price'].keys():\n",
    "    df = df.filter(df[key].isNotNull())\n",
    "for key in DELTA_MATCH['volume'].keys():\n",
    "    df = df.filter(df[key].isNotNull())"
   ]
  },
  {
   "cell_type": "markdown",
   "metadata": {},
   "source": [
    "Starting to clear of the columns we don't need."
   ]
  },
  {
   "cell_type": "code",
   "execution_count": 13,
   "metadata": {},
   "outputs": [],
   "source": [
    "df = df.drop('avg-price', 'trade_volume', 'high', 'low')"
   ]
  },
  {
   "cell_type": "code",
   "execution_count": 14,
   "metadata": {},
   "outputs": [
    {
     "data": {
      "text/plain": [
       "DataFrame[time: timestamp, symbol: string, price-0h: double, price-1h: double, price-2h: double, price-4h: double, price-5h: double, price-6h: double, price-8h: double, price-10h: double, price-12h: double, price-24h: double, price-48h: double, price-96h: double, price-192h: double, price-384h: double, price-768h: double, vol-0h: double, vol-1h: double, vol-2h: double, vol-4h: double, vol-6h: double, vol-8h: double, vol-10h: double, vol-16h: double, vol-24h: double, vol-48h: double, vol-96h: double, vol-192h: double, vol-384h: double, vol-768h: double, price+24h-max: double, price+24h-min: double]"
      ]
     },
     "execution_count": 14,
     "metadata": {},
     "output_type": "execute_result"
    }
   ],
   "source": [
    "# isolate BTC data (since we don't have an aggregate total market info)\n",
    "df_btc = df.filter(df['symbol'] == \"BTC\")\n",
    "df.unpersist()"
   ]
  },
  {
   "cell_type": "markdown",
   "metadata": {},
   "source": [
    "from `df_btc` Drop unneeded cols and rename needed in preprapation for join"
   ]
  },
  {
   "cell_type": "code",
   "execution_count": 15,
   "metadata": {},
   "outputs": [],
   "source": [
    "df_btc = df_btc.drop('symbol', 'price+24h-max', 'price+24h-min')\n",
    "for col in df_btc.columns:\n",
    "    if col == \"time\": continue\n",
    "    df_btc = df_btc.withColumnRenamed(col, \"btc-{}\".format(col))"
   ]
  },
  {
   "cell_type": "code",
   "execution_count": 16,
   "metadata": {},
   "outputs": [],
   "source": [
    "# isolate the non-btc data to prepare for join\n",
    "df_exbtc = df.filter(df['symbol'] != \"BTC\")"
   ]
  },
  {
   "cell_type": "code",
   "execution_count": 17,
   "metadata": {},
   "outputs": [],
   "source": [
    "# join dfs so all coins have BTC in their row for benchmark for all\n",
    "df_joined = df_exbtc.join(df_btc, 'time', 'inner')"
   ]
  },
  {
   "cell_type": "code",
   "execution_count": 18,
   "metadata": {},
   "outputs": [
    {
     "name": "stdout",
     "output_type": "stream",
     "text": [
      "root\n",
      " |-- time: timestamp (nullable = true)\n",
      " |-- symbol: string (nullable = true)\n",
      " |-- price-0h: double (nullable = true)\n",
      " |-- price-1h: double (nullable = true)\n",
      " |-- price-2h: double (nullable = true)\n",
      " |-- price-4h: double (nullable = true)\n",
      " |-- price-5h: double (nullable = true)\n",
      " |-- price-6h: double (nullable = true)\n",
      " |-- price-8h: double (nullable = true)\n",
      " |-- price-10h: double (nullable = true)\n",
      " |-- price-12h: double (nullable = true)\n",
      " |-- price-24h: double (nullable = true)\n",
      " |-- price-48h: double (nullable = true)\n",
      " |-- price-96h: double (nullable = true)\n",
      " |-- price-192h: double (nullable = true)\n",
      " |-- price-384h: double (nullable = true)\n",
      " |-- price-768h: double (nullable = true)\n",
      " |-- vol-0h: double (nullable = true)\n",
      " |-- vol-1h: double (nullable = true)\n",
      " |-- vol-2h: double (nullable = true)\n",
      " |-- vol-4h: double (nullable = true)\n",
      " |-- vol-6h: double (nullable = true)\n",
      " |-- vol-8h: double (nullable = true)\n",
      " |-- vol-10h: double (nullable = true)\n",
      " |-- vol-16h: double (nullable = true)\n",
      " |-- vol-24h: double (nullable = true)\n",
      " |-- vol-48h: double (nullable = true)\n",
      " |-- vol-96h: double (nullable = true)\n",
      " |-- vol-192h: double (nullable = true)\n",
      " |-- vol-384h: double (nullable = true)\n",
      " |-- vol-768h: double (nullable = true)\n",
      " |-- price+24h-max: double (nullable = true)\n",
      " |-- price+24h-min: double (nullable = true)\n",
      " |-- btc-price-0h: double (nullable = true)\n",
      " |-- btc-price-1h: double (nullable = true)\n",
      " |-- btc-price-2h: double (nullable = true)\n",
      " |-- btc-price-4h: double (nullable = true)\n",
      " |-- btc-price-5h: double (nullable = true)\n",
      " |-- btc-price-6h: double (nullable = true)\n",
      " |-- btc-price-8h: double (nullable = true)\n",
      " |-- btc-price-10h: double (nullable = true)\n",
      " |-- btc-price-12h: double (nullable = true)\n",
      " |-- btc-price-24h: double (nullable = true)\n",
      " |-- btc-price-48h: double (nullable = true)\n",
      " |-- btc-price-96h: double (nullable = true)\n",
      " |-- btc-price-192h: double (nullable = true)\n",
      " |-- btc-price-384h: double (nullable = true)\n",
      " |-- btc-price-768h: double (nullable = true)\n",
      " |-- btc-vol-0h: double (nullable = true)\n",
      " |-- btc-vol-1h: double (nullable = true)\n",
      " |-- btc-vol-2h: double (nullable = true)\n",
      " |-- btc-vol-4h: double (nullable = true)\n",
      " |-- btc-vol-6h: double (nullable = true)\n",
      " |-- btc-vol-8h: double (nullable = true)\n",
      " |-- btc-vol-10h: double (nullable = true)\n",
      " |-- btc-vol-16h: double (nullable = true)\n",
      " |-- btc-vol-24h: double (nullable = true)\n",
      " |-- btc-vol-48h: double (nullable = true)\n",
      " |-- btc-vol-96h: double (nullable = true)\n",
      " |-- btc-vol-192h: double (nullable = true)\n",
      " |-- btc-vol-384h: double (nullable = true)\n",
      " |-- btc-vol-768h: double (nullable = true)\n",
      "\n"
     ]
    }
   ],
   "source": [
    "df_joined.printSchema()"
   ]
  },
  {
   "cell_type": "code",
   "execution_count": 19,
   "metadata": {},
   "outputs": [],
   "source": [
    "df_predict = df_joined.filter(df_joined['time'] == latest_received_date).cache()"
   ]
  },
  {
   "cell_type": "code",
   "execution_count": 20,
   "metadata": {},
   "outputs": [],
   "source": [
    "df_predict.toPandas().to_csv('/home/jovyan/data/data_predict.csv')"
   ]
  },
  {
   "cell_type": "code",
   "execution_count": 21,
   "metadata": {},
   "outputs": [],
   "source": [
    "# calculate delta in price to build our label\n",
    "df_joined = df_joined.withColumn('24h-max-delta', (df_joined['price+24h-max'] / df_joined['price-0h']) - 1).cache()\n",
    "df_joined = df_joined.withColumn('24h-min-delta', (df_joined['price+24h-min'] / df_joined['price-0h']) - 1).cache()"
   ]
  },
  {
   "cell_type": "code",
   "execution_count": 22,
   "metadata": {},
   "outputs": [],
   "source": [
    "# df_joined.select('symbol', 'time', 'price+24h-max', 'price-0h', '24h-max-delta').filter((df['24h-max-delta'] > 0. ).(.show()"
   ]
  },
  {
   "cell_type": "code",
   "execution_count": 23,
   "metadata": {},
   "outputs": [],
   "source": [
    "def categorize_delta(delta) -> int:\n",
    "    \"\"\"\n",
    "    UDF to help categorize growth of a specific crypto currency.\n",
    "    param: delta - the growth in % we are evaluating\n",
    "    param: threshold - threshold separating 0 from 1\n",
    "    \"\"\"\n",
    "\n",
    "    if delta is None:                    \n",
    "        return None\n",
    "    elif int(delta*100) <= -5:\n",
    "        return 1\n",
    "    elif int(delta*100) <= 0:\n",
    "        return 2\n",
    "    elif int(delta*100) <= 5:\n",
    "        return 3\n",
    "    else:\n",
    "        return 4\n",
    "    \n",
    "# register the UDF\n",
    "categorize_delta_udf = F.udf(categorize_delta, IntegerType())"
   ]
  },
  {
   "cell_type": "code",
   "execution_count": 24,
   "metadata": {},
   "outputs": [
    {
     "data": {
      "text/plain": [
       "DataFrame[time: timestamp, symbol: string, price-0h: double, price-1h: double, price-2h: double, price-4h: double, price-5h: double, price-6h: double, price-8h: double, price-10h: double, price-12h: double, price-24h: double, price-48h: double, price-96h: double, price-192h: double, price-384h: double, price-768h: double, vol-0h: double, vol-1h: double, vol-2h: double, vol-4h: double, vol-6h: double, vol-8h: double, vol-10h: double, vol-16h: double, vol-24h: double, vol-48h: double, vol-96h: double, vol-192h: double, vol-384h: double, vol-768h: double, price+24h-max: double, price+24h-min: double, btc-price-0h: double, btc-price-1h: double, btc-price-2h: double, btc-price-4h: double, btc-price-5h: double, btc-price-6h: double, btc-price-8h: double, btc-price-10h: double, btc-price-12h: double, btc-price-24h: double, btc-price-48h: double, btc-price-96h: double, btc-price-192h: double, btc-price-384h: double, btc-price-768h: double, btc-vol-0h: double, btc-vol-1h: double, btc-vol-2h: double, btc-vol-4h: double, btc-vol-6h: double, btc-vol-8h: double, btc-vol-10h: double, btc-vol-16h: double, btc-vol-24h: double, btc-vol-48h: double, btc-vol-96h: double, btc-vol-192h: double, btc-vol-384h: double, btc-vol-768h: double, 24h-max-delta: double, 24h-min-delta: double]"
      ]
     },
     "execution_count": 24,
     "metadata": {},
     "output_type": "execute_result"
    }
   ],
   "source": [
    "df_categorized = df_joined.withColumn('label', categorize_delta_udf(df_joined['24h-max-delta'])).drop('24h-max-delta', '24h-min-delta').cache()\n",
    "df_joined.unpersist()"
   ]
  },
  {
   "cell_type": "code",
   "execution_count": 25,
   "metadata": {},
   "outputs": [],
   "source": [
    "df_categorized = df_categorized.cache()"
   ]
  },
  {
   "cell_type": "code",
   "execution_count": 26,
   "metadata": {},
   "outputs": [],
   "source": [
    "# remove the (last) column that has null data, in this case, label should have 192 rows\n",
    "df_categorized = df_categorized.filter(df_categorized['label'].isNotNull()).cache()"
   ]
  },
  {
   "cell_type": "code",
   "execution_count": 27,
   "metadata": {},
   "outputs": [],
   "source": [
    "df_categorized.toPandas().to_csv('/home/jovyan/data/data_train_test.csv')"
   ]
  },
  {
   "cell_type": "code",
   "execution_count": 28,
   "metadata": {},
   "outputs": [
    {
     "name": "stdout",
     "output_type": "stream",
     "text": [
      "+-----+\n",
      "|label|\n",
      "+-----+\n",
      "|    1|\n",
      "|    3|\n",
      "|    4|\n",
      "|    2|\n",
      "+-----+\n",
      "\n"
     ]
    }
   ],
   "source": [
    "df_categorized.select('label').distinct().show()"
   ]
  },
  {
   "cell_type": "code",
   "execution_count": 29,
   "metadata": {},
   "outputs": [],
   "source": [
    "spark.catalog.clearCache()"
   ]
  }
 ],
 "metadata": {
  "kernelspec": {
   "display_name": "Python 3",
   "language": "python",
   "name": "python3"
  },
  "language_info": {
   "codemirror_mode": {
    "name": "ipython",
    "version": 3
   },
   "file_extension": ".py",
   "mimetype": "text/x-python",
   "name": "python",
   "nbconvert_exporter": "python",
   "pygments_lexer": "ipython3",
   "version": "3.6.3"
  }
 },
 "nbformat": 4,
 "nbformat_minor": 2
}
