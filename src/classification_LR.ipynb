{
 "cells": [
  {
   "cell_type": "code",
   "execution_count": 1,
   "metadata": {},
   "outputs": [],
   "source": [
    "from pyspark.ml import Pipeline\n",
    "from pyspark.ml.classification import LogisticRegression\n",
    "from pyspark.ml.evaluation import MulticlassClassificationEvaluator\n",
    "from pyspark.ml.feature import VectorAssembler, MinMaxScaler\n",
    "from pyspark.ml.tuning import CrossValidator, ParamGridBuilder\n"
   ]
  },
  {
   "cell_type": "code",
   "execution_count": 2,
   "metadata": {},
   "outputs": [],
   "source": [
    "spark = SparkSession.builder.appName(\"Crypto Data\").getOrCreate()\n",
    "df = spark.read.csv(\"/home/jovyan/data/data_train_test.csv\", inferSchema=True, encoding='utf-8', header=True).cache()\n",
    "df_predict = spark.read.csv(\"/home/jovyan/data/data_predict.csv\", inferSchema=True, encoding='utf-8', header=True).cache()"
   ]
  },
  {
   "cell_type": "code",
   "execution_count": 3,
   "metadata": {},
   "outputs": [],
   "source": [
    "# df.printSchema()"
   ]
  },
  {
   "cell_type": "code",
   "execution_count": 4,
   "metadata": {},
   "outputs": [
    {
     "data": {
      "text/plain": [
       "DataFrame[price-0h: double, price-1h: double, price-2h: double, price-4h: double, price-5h: double, price-6h: double, price-8h: double, price-10h: double, price-12h: double, price-24h: double, price-48h: double, price-96h: double, price-192h: double, price-384h: double, price-768h: double, vol-0h: double, vol-1h: double, vol-2h: double, vol-4h: double, vol-6h: double, vol-8h: double, vol-10h: double, vol-16h: double, vol-24h: double, vol-48h: double, vol-96h: double, vol-192h: double, vol-384h: double, vol-768h: double, btc-price-0h: double, btc-price-1h: double, btc-price-2h: double, btc-price-4h: double, btc-price-5h: double, btc-price-6h: double, btc-price-8h: double, btc-price-10h: double, btc-price-12h: double, btc-price-24h: double, btc-price-48h: double, btc-price-96h: double, btc-price-192h: double, btc-price-384h: double, btc-price-768h: double, btc-vol-0h: double, btc-vol-1h: double, btc-vol-2h: double, btc-vol-4h: double, btc-vol-6h: double, btc-vol-8h: double, btc-vol-10h: double, btc-vol-16h: double, btc-vol-24h: double, btc-vol-48h: double, btc-vol-96h: double, btc-vol-192h: double, btc-vol-384h: double, btc-vol-768h: double, label: int]"
      ]
     },
     "execution_count": 4,
     "metadata": {},
     "output_type": "execute_result"
    }
   ],
   "source": [
    "# Get temp columns results\n",
    "tmp_df = df.drop('_c0', 'time', 'symbol', 'price+24h-max', 'price+24h-min', 'btc-price+24h-min').cache()\n",
    "feature_cols = [col for col in tmp_df.columns if col != \"label\"]\n",
    "tmp_df.unpersist()"
   ]
  },
  {
   "cell_type": "code",
   "execution_count": 5,
   "metadata": {},
   "outputs": [],
   "source": [
    "train_df, test_df = df.randomSplit([0.90,0.1])"
   ]
  },
  {
   "cell_type": "code",
   "execution_count": 6,
   "metadata": {},
   "outputs": [],
   "source": [
    "# Class Models for the Pipeline\n",
    "vec_assembler = VectorAssembler(inputCols=feature_cols, outputCol='features')\n",
    "scaler = MinMaxScaler(min=0.0, max=1.0, inputCol='features', outputCol='scaled-features')\n",
    "log_reg_model = LogisticRegression(featuresCol='scaled-features', labelCol='label')"
   ]
  },
  {
   "cell_type": "code",
   "execution_count": 7,
   "metadata": {},
   "outputs": [],
   "source": [
    "pipeline = Pipeline(stages=[vec_assembler, scaler, log_reg_model])"
   ]
  },
  {
   "cell_type": "code",
   "execution_count": 8,
   "metadata": {},
   "outputs": [],
   "source": [
    "# paramGrid = ParamGridBuilder() \\\n",
    "#     .addGrid(log_reg_model.regParam, [0.1,0.005,0.5]) \\\n",
    "#     .addGrid(log_reg_model.maxIter, [100,1000,10000]) \\\n",
    "#     .addGrid(log_reg_model.elasticNetParam, [0, 1]) \\\n",
    "#     .addGrid(log_reg_model.fitIntercept, [True, False]) \\\n",
    "#     .addGrid(log_reg_model.aggregationDepth, [2,3,4]) \\\n",
    "#     .build()\n",
    "    \n",
    "paramGrid = ParamGridBuilder() \\\n",
    "    .build()"
   ]
  },
  {
   "cell_type": "code",
   "execution_count": 9,
   "metadata": {},
   "outputs": [
    {
     "name": "stdout",
     "output_type": "stream",
     "text": [
      "CPU times: user 130 ms, sys: 20 ms, total: 150 ms\n",
      "Wall time: 48.7 s\n"
     ]
    }
   ],
   "source": [
    "%%time\n",
    "crossval = CrossValidator(estimator=pipeline,\n",
    "                          estimatorParamMaps=paramGrid,\n",
    "                          evaluator=MulticlassClassificationEvaluator(),\n",
    "                          numFolds=3)  # use 3+ folds in practice\n",
    "\n",
    "# Run cross-validation, and choose the best set of parameters.\n",
    "cvModel = crossval.fit(train_df)"
   ]
  },
  {
   "cell_type": "code",
   "execution_count": 10,
   "metadata": {},
   "outputs": [],
   "source": [
    "prediction = cvModel.transform(test_df)"
   ]
  },
  {
   "cell_type": "code",
   "execution_count": 11,
   "metadata": {},
   "outputs": [],
   "source": [
    "evaluator = MulticlassClassificationEvaluator(predictionCol='prediction')"
   ]
  },
  {
   "cell_type": "code",
   "execution_count": 12,
   "metadata": {},
   "outputs": [
    {
     "data": {
      "text/plain": [
       "0.3874069170432073"
      ]
     },
     "execution_count": 12,
     "metadata": {},
     "output_type": "execute_result"
    }
   ],
   "source": [
    "#0.313349279044155\n",
    "AUC = evaluator.evaluate(prediction)\n",
    "AUC"
   ]
  },
  {
   "cell_type": "code",
   "execution_count": 13,
   "metadata": {},
   "outputs": [
    {
     "name": "stdout",
     "output_type": "stream",
     "text": [
      "Test set accuracy = 0.486031885329823\n"
     ]
    }
   ],
   "source": [
    "predictionAndLabels = prediction.select(\"prediction\", \"label\")\n",
    "evaluator = MulticlassClassificationEvaluator(metricName=\"accuracy\")\n",
    "print(\"Test set accuracy = \" + str(evaluator.evaluate(predictionAndLabels)))"
   ]
  },
  {
   "cell_type": "code",
   "execution_count": 14,
   "metadata": {},
   "outputs": [],
   "source": [
    "real_pred = cvModel.transform(df_predict)"
   ]
  },
  {
   "cell_type": "code",
   "execution_count": 15,
   "metadata": {},
   "outputs": [],
   "source": [
    "# df_predict.show()"
   ]
  },
  {
   "cell_type": "markdown",
   "metadata": {},
   "source": [
    "```\n",
    "                         LABEL\n",
    "        delta <= -10%  =   \n",
    "-10%  < delta <=  -5%  =   \n",
    " -5%  < delta <=   0%  =   \n",
    "  0%  < delta <=   5%  =   \n",
    "  5%  < delta <=  10%  =   \n",
    " 10% <= delta          =   \n",
    "```"
   ]
  },
  {
   "cell_type": "code",
   "execution_count": 16,
   "metadata": {},
   "outputs": [
    {
     "name": "stdout",
     "output_type": "stream",
     "text": [
      "+------+-------------------+-------------------+----------+\n",
      "|symbol|time               |price-0h           |prediction|\n",
      "+------+-------------------+-------------------+----------+\n",
      "|EOS   |2018-06-17 14:00:00|10.4425            |3.0       |\n",
      "|LTC   |2018-06-17 14:00:00|95.5225            |3.0       |\n",
      "|ETH   |2018-06-17 14:00:00|498.3575           |3.0       |\n",
      "|BCH   |2018-06-17 14:00:00|849.07             |3.0       |\n",
      "|VEN   |2018-06-17 14:00:00|3.16               |3.0       |\n",
      "|XLM   |2018-06-17 14:00:00|0.22845            |3.0       |\n",
      "|CVC   |2018-06-17 14:00:00|0.20279999999999998|3.0       |\n",
      "|XRP   |2018-06-17 14:00:00|0.5246             |3.0       |\n",
      "+------+-------------------+-------------------+----------+\n",
      "\n"
     ]
    }
   ],
   "source": [
    "real_pred.select('symbol', 'time', 'price-0h', 'prediction').show(truncate=False)"
   ]
  },
  {
   "cell_type": "code",
   "execution_count": 17,
   "metadata": {},
   "outputs": [],
   "source": [
    "spark.catalog.clearCache()"
   ]
  }
 ],
 "metadata": {
  "kernelspec": {
   "display_name": "Python 3",
   "language": "python",
   "name": "python3"
  },
  "language_info": {
   "codemirror_mode": {
    "name": "ipython",
    "version": 3
   },
   "file_extension": ".py",
   "mimetype": "text/x-python",
   "name": "python",
   "nbconvert_exporter": "python",
   "pygments_lexer": "ipython3",
   "version": "3.6.3"
  }
 },
 "nbformat": 4,
 "nbformat_minor": 2
}
