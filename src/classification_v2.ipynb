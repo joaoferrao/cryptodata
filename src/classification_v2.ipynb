{
 "cells": [
  {
   "cell_type": "code",
   "execution_count": 1,
   "metadata": {},
   "outputs": [],
   "source": [
    "from pyspark.ml import Pipeline\n",
    "from pyspark.ml.classification import LogisticRegression\n",
    "from pyspark.ml.evaluation import BinaryClassificationEvaluator\n",
    "from pyspark.ml.feature import VectorAssembler, MinMaxScaler\n",
    "from pyspark.ml.tuning import CrossValidator, ParamGridBuilder\n",
    "from pyspark.sql import SparkSession"
   ]
  },
  {
   "cell_type": "code",
   "execution_count": 2,
   "metadata": {},
   "outputs": [],
   "source": [
    "spark = SparkSession.builder.appName(\"Crypto Data\").getOrCreate()\n",
    "df = spark.read.csv(\"/home/jovyan/data/data_train_test.csv\", inferSchema=True, encoding='utf-8', header=True).cache()\n",
    "df_predict = spark.read.csv(\"/home/jovyan/data/data_predict.csv\", inferSchema=True, encoding='utf-8', header=True).cache()"
   ]
  },
  {
   "cell_type": "code",
   "execution_count": 3,
   "metadata": {},
   "outputs": [],
   "source": [
    "# Get temp columns results\n",
    "tmp_df = df.drop('_c0', 'time', 'symbol', 'price+24h-avg').cache()\n",
    "feature_cols = [col for col in tmp_df.columns if col != \"label\"]"
   ]
  },
  {
   "cell_type": "code",
   "execution_count": 21,
   "metadata": {},
   "outputs": [],
   "source": [
    "# Class Models for the Pipeline\n",
    "vec_assembler = VectorAssembler(inputCols=feature_cols, outputCol='features')\n",
    "scaler = MinMaxScaler(min=0.0, max=1.0, inputCol='features', outputCol='scaled-features')\n",
    "log_reg_model = LogisticRegression(featuresCol='scaled-features', labelCol='label')"
   ]
  },
  {
   "cell_type": "code",
   "execution_count": 22,
   "metadata": {},
   "outputs": [],
   "source": [
    "train_df, test_df = df.randomSplit([0.7,0.3])"
   ]
  },
  {
   "cell_type": "code",
   "execution_count": 23,
   "metadata": {},
   "outputs": [],
   "source": [
    "pipeline = Pipeline(stages=[vec_assembler, scaler, log_reg_model])"
   ]
  },
  {
   "cell_type": "code",
   "execution_count": 27,
   "metadata": {},
   "outputs": [],
   "source": [
    "%%time\n",
    "paramGrid = ParamGridBuilder() \\\n",
    "    .addGrid(log_reg_model.regParam, [0.1, 0.01, 0.001]) \\\n",
    "    .addGrid(log_reg_model.maxIter, [1000, 10000]) \\\n",
    "    .addGrid(log_reg_model.elasticNetParam, [0,1]) \\\n",
    "    .build()\n",
    "\n",
    "# paramGrid = ParamGridBuilder() \\\n",
    "#     .addGrid(log_reg_model.regParam, [0.1, 0.01, 0.001]) \\\n",
    "#     .addGrid(log_reg_model.maxIter, [1000, 10000, 100000]) \\\n",
    "#     .addGrid(log_reg_model.elasticNetParam, [0,1]) \\\n",
    "#     .build()"
   ]
  },
  {
   "cell_type": "code",
   "execution_count": 28,
   "metadata": {},
   "outputs": [],
   "source": [
    "crossval = CrossValidator(estimator=pipeline,\n",
    "                          estimatorParamMaps=paramGrid,\n",
    "                          evaluator=BinaryClassificationEvaluator(),\n",
    "                          numFolds=3)  # use 3+ folds in practice\n",
    "\n",
    "# Run cross-validation, and choose the best set of parameters.\n",
    "cvModel = crossval.fit(train_df)"
   ]
  },
  {
   "cell_type": "code",
   "execution_count": 29,
   "metadata": {},
   "outputs": [],
   "source": [
    "prediction = cvModel.transform(test_df)"
   ]
  },
  {
   "cell_type": "code",
   "execution_count": 30,
   "metadata": {},
   "outputs": [],
   "source": [
    "evaluator = BinaryClassificationEvaluator(rawPredictionCol='rawPrediction')"
   ]
  },
  {
   "cell_type": "code",
   "execution_count": 31,
   "metadata": {},
   "outputs": [
    {
     "data": {
      "text/plain": [
       "0.5791036627952272"
      ]
     },
     "execution_count": 31,
     "metadata": {},
     "output_type": "execute_result"
    }
   ],
   "source": [
    "AUC = evaluator.evaluate(prediction)\n",
    "AUC"
   ]
  },
  {
   "cell_type": "code",
   "execution_count": 32,
   "metadata": {},
   "outputs": [],
   "source": [
    "real_pred = cvModel.transform(df_predict)"
   ]
  },
  {
   "cell_type": "code",
   "execution_count": 33,
   "metadata": {},
   "outputs": [
    {
     "name": "stdout",
     "output_type": "stream",
     "text": [
      "+------+-------------------+------------+--------------------+----------+\n",
      "|symbol|               time|price-0h-avg|         probability|prediction|\n",
      "+------+-------------------+------------+--------------------+----------+\n",
      "|   EOS|2018-06-12 08:00:00|       11.08|[0.06462750925874...|       1.0|\n",
      "|   LTC|2018-06-12 08:00:00|      107.22|[0.08884317151617...|       1.0|\n",
      "|   ETH|2018-06-12 08:00:00|      529.94|[0.06284924375329...|       1.0|\n",
      "|   BCH|2018-06-12 08:00:00|      945.82|[0.06985228733208...|       1.0|\n",
      "|   VEN|2018-06-12 08:00:00|         3.3|[0.09359866535352...|       1.0|\n",
      "|  DRGN|2018-06-12 08:00:00|      0.4429|[0.09374802026645...|       1.0|\n",
      "|  NANO|2018-06-12 08:00:00|        3.14|[0.09368749162919...|       1.0|\n",
      "|   XLM|2018-06-12 08:00:00|      0.2495|[0.09294354742172...|       1.0|\n",
      "|   CVC|2018-06-12 08:00:00|      0.2393|[0.09346231433497...|       1.0|\n",
      "|   XRP|2018-06-12 08:00:00|      0.5897|[0.08973235991389...|       1.0|\n",
      "|   ADA|2018-06-12 08:00:00|      0.1764|[0.09281955682219...|       1.0|\n",
      "+------+-------------------+------------+--------------------+----------+\n",
      "\n"
     ]
    }
   ],
   "source": [
    "real_pred.select('symbol', 'time', 'price-0h-avg', 'probability', 'prediction').show()"
   ]
  },
  {
   "cell_type": "code",
   "execution_count": 34,
   "metadata": {},
   "outputs": [],
   "source": [
    "spark.catalog.clearCache()"
   ]
  }
 ],
 "metadata": {
  "kernelspec": {
   "display_name": "Python 3",
   "language": "python",
   "name": "python3"
  },
  "language_info": {
   "codemirror_mode": {
    "name": "ipython",
    "version": 3
   },
   "file_extension": ".py",
   "mimetype": "text/x-python",
   "name": "python",
   "nbconvert_exporter": "python",
   "pygments_lexer": "ipython3",
   "version": "3.6.3"
  }
 },
 "nbformat": 4,
 "nbformat_minor": 2
}
